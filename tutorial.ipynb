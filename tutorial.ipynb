{
 "cells": [
  {
   "cell_type": "markdown",
   "metadata": {},
   "source": [
    "# Signal creation\n"
   ]
  },
  {
   "cell_type": "markdown",
   "metadata": {},
   "source": [
    "-   Source: https://realpython.com/python-scipy-fft/\n",
    "-   Author: Cameron Macleod\n"
   ]
  },
  {
   "cell_type": "code",
   "execution_count": null,
   "metadata": {},
   "outputs": [],
   "source": [
    "import numpy as np\n",
    "from matplotlib import pyplot as plt\n",
    "\n",
    "SAMPLE_RATE = 44100  # Hertz\n",
    "DURATION = 5  # Seconds\n",
    "\n",
    "\n",
    "def generate_sine_wave(freq, sample_rate, duration):\n",
    "    x = np.linspace(0, duration, sample_rate * duration, endpoint=False)\n",
    "    frequencies = x * freq\n",
    "    # 2pi because np.sin takes radians\n",
    "    y = np.sin((2 * np.pi) * frequencies)\n",
    "    return x, y\n",
    "\n",
    "\n",
    "# Generate a 2 hertz sine wave that lasts for 5 seconds\n",
    "x, y = generate_sine_wave(2, SAMPLE_RATE, DURATION)\n",
    "plt.plot(x, y)\n",
    "plt.show()"
   ]
  },
  {
   "cell_type": "markdown",
   "metadata": {},
   "source": [
    "# Add noise\n"
   ]
  },
  {
   "cell_type": "code",
   "execution_count": null,
   "metadata": {},
   "outputs": [],
   "source": [
    "_, nice_tone = generate_sine_wave(400, SAMPLE_RATE, DURATION)\n",
    "_, noise_tone = generate_sine_wave(4000, SAMPLE_RATE, DURATION)\n",
    "noise_tone = noise_tone * 0.3\n",
    "\n",
    "mixed_tone = nice_tone + noise_tone"
   ]
  },
  {
   "cell_type": "markdown",
   "metadata": {},
   "source": [
    "# Normalization\n"
   ]
  },
  {
   "cell_type": "code",
   "execution_count": null,
   "metadata": {},
   "outputs": [],
   "source": [
    "normalized_tone = np.int16((mixed_tone / mixed_tone.max()) * 32767)\n",
    "\n",
    "plt.plot(normalized_tone[:1000])\n",
    "plt.show()"
   ]
  },
  {
   "cell_type": "markdown",
   "metadata": {},
   "source": [
    "# Save audio file\n"
   ]
  },
  {
   "cell_type": "code",
   "execution_count": null,
   "metadata": {},
   "outputs": [],
   "source": [
    "from scipy.io.wavfile import write\n",
    "\n",
    "# Remember SAMPLE_RATE = 44100 Hz is our playback rate\n",
    "write(\"mysinewave.wav\", SAMPLE_RATE, normalized_tone)"
   ]
  },
  {
   "cell_type": "markdown",
   "metadata": {},
   "source": [
    "# Using the Fast Fourier Transform (FFT)\n"
   ]
  },
  {
   "cell_type": "code",
   "execution_count": null,
   "metadata": {},
   "outputs": [],
   "source": [
    "from scipy.fft import fft, fftfreq\n",
    "\n",
    "# Number of samples in normalized_tone\n",
    "N = SAMPLE_RATE * DURATION\n",
    "\n",
    "yf = fft(normalized_tone)\n",
    "xf = fftfreq(N, 1 / SAMPLE_RATE)\n",
    "\n",
    "plt.plot(xf, np.abs(yf))\n",
    "plt.show()"
   ]
  },
  {
   "cell_type": "markdown",
   "metadata": {},
   "source": [
    "# Making It Faster With rfft()\n"
   ]
  },
  {
   "cell_type": "code",
   "execution_count": null,
   "metadata": {},
   "outputs": [],
   "source": [
    "from scipy.fft import rfft, rfftfreq\n",
    "\n",
    "# Note the extra 'r' at the front\n",
    "yf = rfft(normalized_tone)\n",
    "xf = rfftfreq(N, 1 / SAMPLE_RATE)\n",
    "\n",
    "plt.plot(xf, np.abs(yf))\n",
    "plt.show()"
   ]
  },
  {
   "cell_type": "markdown",
   "metadata": {},
   "source": [
    "# Filtering the Signal\n"
   ]
  },
  {
   "cell_type": "code",
   "execution_count": null,
   "metadata": {},
   "outputs": [],
   "source": [
    "# The maximum frequency is half the sample rate\n",
    "points_per_freq = len(xf) / (SAMPLE_RATE / 2)\n",
    "\n",
    "# Our target frequency is 4000 Hz\n",
    "target_idx = int(points_per_freq * 4000)\n",
    "\n",
    "yf[target_idx - 1: target_idx + 2] = 0\n",
    "\n",
    "plt.plot(xf, np.abs(yf))\n",
    "plt.show()"
   ]
  },
  {
   "cell_type": "markdown",
   "metadata": {},
   "source": [
    "# Applying the Inverse FFT\n"
   ]
  },
  {
   "cell_type": "code",
   "execution_count": null,
   "metadata": {},
   "outputs": [],
   "source": [
    "from scipy.fft import irfft\n",
    "\n",
    "new_sig = irfft(yf)\n",
    "\n",
    "plt.plot(new_sig[:1000])\n",
    "plt.show()"
   ]
  }
 ],
 "metadata": {
  "kernelspec": {
   "display_name": ".venv312",
   "language": "python",
   "name": "python3"
  },
  "language_info": {
   "codemirror_mode": {
    "name": "ipython",
    "version": 3
   },
   "file_extension": ".py",
   "mimetype": "text/x-python",
   "name": "python",
   "nbconvert_exporter": "python",
   "pygments_lexer": "ipython3",
   "version": "3.12.1"
  }
 },
 "nbformat": 4,
 "nbformat_minor": 2
}
